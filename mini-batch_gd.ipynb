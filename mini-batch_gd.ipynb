{
 "cells": [
  {
   "cell_type": "markdown",
   "id": "35191f15",
   "metadata": {},
   "source": [
    "# THIS NOTEBOOK IS ON MINI BATCH GD \n",
    "BUT ALSO INCLUDES VISULISATION OF GD "
   ]
  },
  {
   "cell_type": "code",
   "execution_count": 1,
   "id": "7066708b",
   "metadata": {},
   "outputs": [],
   "source": [
    "from sklearn.datasets import load_diabetes\n",
    "import numpy as np\n",
    "import pandas as pd\n",
    "from sklearn.linear_model import LinearRegression\n"
   ]
  },
  {
   "cell_type": "code",
   "execution_count": 2,
   "id": "5e2b34e1",
   "metadata": {},
   "outputs": [],
   "source": [
    "X,y = load_diabetes(return_X_y=True)\n"
   ]
  },
  {
   "cell_type": "code",
   "execution_count": 3,
   "id": "6413f33b",
   "metadata": {},
   "outputs": [],
   "source": [
    "from sklearn.model_selection import train_test_split\n",
    "X_train, X_test, y_train, y_test = train_test_split(X, y, test_size= 0.2, random_state=42)"
   ]
  },
  {
   "cell_type": "code",
   "execution_count": 4,
   "id": "b19a98c0",
   "metadata": {},
   "outputs": [
    {
     "data": {
      "text/html": [
       "<style>#sk-container-id-1 {\n",
       "  /* Definition of color scheme common for light and dark mode */\n",
       "  --sklearn-color-text: #000;\n",
       "  --sklearn-color-text-muted: #666;\n",
       "  --sklearn-color-line: gray;\n",
       "  /* Definition of color scheme for unfitted estimators */\n",
       "  --sklearn-color-unfitted-level-0: #fff5e6;\n",
       "  --sklearn-color-unfitted-level-1: #f6e4d2;\n",
       "  --sklearn-color-unfitted-level-2: #ffe0b3;\n",
       "  --sklearn-color-unfitted-level-3: chocolate;\n",
       "  /* Definition of color scheme for fitted estimators */\n",
       "  --sklearn-color-fitted-level-0: #f0f8ff;\n",
       "  --sklearn-color-fitted-level-1: #d4ebff;\n",
       "  --sklearn-color-fitted-level-2: #b3dbfd;\n",
       "  --sklearn-color-fitted-level-3: cornflowerblue;\n",
       "\n",
       "  /* Specific color for light theme */\n",
       "  --sklearn-color-text-on-default-background: var(--sg-text-color, var(--theme-code-foreground, var(--jp-content-font-color1, black)));\n",
       "  --sklearn-color-background: var(--sg-background-color, var(--theme-background, var(--jp-layout-color0, white)));\n",
       "  --sklearn-color-border-box: var(--sg-text-color, var(--theme-code-foreground, var(--jp-content-font-color1, black)));\n",
       "  --sklearn-color-icon: #696969;\n",
       "\n",
       "  @media (prefers-color-scheme: dark) {\n",
       "    /* Redefinition of color scheme for dark theme */\n",
       "    --sklearn-color-text-on-default-background: var(--sg-text-color, var(--theme-code-foreground, var(--jp-content-font-color1, white)));\n",
       "    --sklearn-color-background: var(--sg-background-color, var(--theme-background, var(--jp-layout-color0, #111)));\n",
       "    --sklearn-color-border-box: var(--sg-text-color, var(--theme-code-foreground, var(--jp-content-font-color1, white)));\n",
       "    --sklearn-color-icon: #878787;\n",
       "  }\n",
       "}\n",
       "\n",
       "#sk-container-id-1 {\n",
       "  color: var(--sklearn-color-text);\n",
       "}\n",
       "\n",
       "#sk-container-id-1 pre {\n",
       "  padding: 0;\n",
       "}\n",
       "\n",
       "#sk-container-id-1 input.sk-hidden--visually {\n",
       "  border: 0;\n",
       "  clip: rect(1px 1px 1px 1px);\n",
       "  clip: rect(1px, 1px, 1px, 1px);\n",
       "  height: 1px;\n",
       "  margin: -1px;\n",
       "  overflow: hidden;\n",
       "  padding: 0;\n",
       "  position: absolute;\n",
       "  width: 1px;\n",
       "}\n",
       "\n",
       "#sk-container-id-1 div.sk-dashed-wrapped {\n",
       "  border: 1px dashed var(--sklearn-color-line);\n",
       "  margin: 0 0.4em 0.5em 0.4em;\n",
       "  box-sizing: border-box;\n",
       "  padding-bottom: 0.4em;\n",
       "  background-color: var(--sklearn-color-background);\n",
       "}\n",
       "\n",
       "#sk-container-id-1 div.sk-container {\n",
       "  /* jupyter's `normalize.less` sets `[hidden] { display: none; }`\n",
       "     but bootstrap.min.css set `[hidden] { display: none !important; }`\n",
       "     so we also need the `!important` here to be able to override the\n",
       "     default hidden behavior on the sphinx rendered scikit-learn.org.\n",
       "     See: https://github.com/scikit-learn/scikit-learn/issues/21755 */\n",
       "  display: inline-block !important;\n",
       "  position: relative;\n",
       "}\n",
       "\n",
       "#sk-container-id-1 div.sk-text-repr-fallback {\n",
       "  display: none;\n",
       "}\n",
       "\n",
       "div.sk-parallel-item,\n",
       "div.sk-serial,\n",
       "div.sk-item {\n",
       "  /* draw centered vertical line to link estimators */\n",
       "  background-image: linear-gradient(var(--sklearn-color-text-on-default-background), var(--sklearn-color-text-on-default-background));\n",
       "  background-size: 2px 100%;\n",
       "  background-repeat: no-repeat;\n",
       "  background-position: center center;\n",
       "}\n",
       "\n",
       "/* Parallel-specific style estimator block */\n",
       "\n",
       "#sk-container-id-1 div.sk-parallel-item::after {\n",
       "  content: \"\";\n",
       "  width: 100%;\n",
       "  border-bottom: 2px solid var(--sklearn-color-text-on-default-background);\n",
       "  flex-grow: 1;\n",
       "}\n",
       "\n",
       "#sk-container-id-1 div.sk-parallel {\n",
       "  display: flex;\n",
       "  align-items: stretch;\n",
       "  justify-content: center;\n",
       "  background-color: var(--sklearn-color-background);\n",
       "  position: relative;\n",
       "}\n",
       "\n",
       "#sk-container-id-1 div.sk-parallel-item {\n",
       "  display: flex;\n",
       "  flex-direction: column;\n",
       "}\n",
       "\n",
       "#sk-container-id-1 div.sk-parallel-item:first-child::after {\n",
       "  align-self: flex-end;\n",
       "  width: 50%;\n",
       "}\n",
       "\n",
       "#sk-container-id-1 div.sk-parallel-item:last-child::after {\n",
       "  align-self: flex-start;\n",
       "  width: 50%;\n",
       "}\n",
       "\n",
       "#sk-container-id-1 div.sk-parallel-item:only-child::after {\n",
       "  width: 0;\n",
       "}\n",
       "\n",
       "/* Serial-specific style estimator block */\n",
       "\n",
       "#sk-container-id-1 div.sk-serial {\n",
       "  display: flex;\n",
       "  flex-direction: column;\n",
       "  align-items: center;\n",
       "  background-color: var(--sklearn-color-background);\n",
       "  padding-right: 1em;\n",
       "  padding-left: 1em;\n",
       "}\n",
       "\n",
       "\n",
       "/* Toggleable style: style used for estimator/Pipeline/ColumnTransformer box that is\n",
       "clickable and can be expanded/collapsed.\n",
       "- Pipeline and ColumnTransformer use this feature and define the default style\n",
       "- Estimators will overwrite some part of the style using the `sk-estimator` class\n",
       "*/\n",
       "\n",
       "/* Pipeline and ColumnTransformer style (default) */\n",
       "\n",
       "#sk-container-id-1 div.sk-toggleable {\n",
       "  /* Default theme specific background. It is overwritten whether we have a\n",
       "  specific estimator or a Pipeline/ColumnTransformer */\n",
       "  background-color: var(--sklearn-color-background);\n",
       "}\n",
       "\n",
       "/* Toggleable label */\n",
       "#sk-container-id-1 label.sk-toggleable__label {\n",
       "  cursor: pointer;\n",
       "  display: flex;\n",
       "  width: 100%;\n",
       "  margin-bottom: 0;\n",
       "  padding: 0.5em;\n",
       "  box-sizing: border-box;\n",
       "  text-align: center;\n",
       "  align-items: start;\n",
       "  justify-content: space-between;\n",
       "  gap: 0.5em;\n",
       "}\n",
       "\n",
       "#sk-container-id-1 label.sk-toggleable__label .caption {\n",
       "  font-size: 0.6rem;\n",
       "  font-weight: lighter;\n",
       "  color: var(--sklearn-color-text-muted);\n",
       "}\n",
       "\n",
       "#sk-container-id-1 label.sk-toggleable__label-arrow:before {\n",
       "  /* Arrow on the left of the label */\n",
       "  content: \"▸\";\n",
       "  float: left;\n",
       "  margin-right: 0.25em;\n",
       "  color: var(--sklearn-color-icon);\n",
       "}\n",
       "\n",
       "#sk-container-id-1 label.sk-toggleable__label-arrow:hover:before {\n",
       "  color: var(--sklearn-color-text);\n",
       "}\n",
       "\n",
       "/* Toggleable content - dropdown */\n",
       "\n",
       "#sk-container-id-1 div.sk-toggleable__content {\n",
       "  display: none;\n",
       "  text-align: left;\n",
       "  /* unfitted */\n",
       "  background-color: var(--sklearn-color-unfitted-level-0);\n",
       "}\n",
       "\n",
       "#sk-container-id-1 div.sk-toggleable__content.fitted {\n",
       "  /* fitted */\n",
       "  background-color: var(--sklearn-color-fitted-level-0);\n",
       "}\n",
       "\n",
       "#sk-container-id-1 div.sk-toggleable__content pre {\n",
       "  margin: 0.2em;\n",
       "  border-radius: 0.25em;\n",
       "  color: var(--sklearn-color-text);\n",
       "  /* unfitted */\n",
       "  background-color: var(--sklearn-color-unfitted-level-0);\n",
       "}\n",
       "\n",
       "#sk-container-id-1 div.sk-toggleable__content.fitted pre {\n",
       "  /* unfitted */\n",
       "  background-color: var(--sklearn-color-fitted-level-0);\n",
       "}\n",
       "\n",
       "#sk-container-id-1 input.sk-toggleable__control:checked~div.sk-toggleable__content {\n",
       "  /* Expand drop-down */\n",
       "  display: block;\n",
       "  width: 100%;\n",
       "  overflow: visible;\n",
       "}\n",
       "\n",
       "#sk-container-id-1 input.sk-toggleable__control:checked~label.sk-toggleable__label-arrow:before {\n",
       "  content: \"▾\";\n",
       "}\n",
       "\n",
       "/* Pipeline/ColumnTransformer-specific style */\n",
       "\n",
       "#sk-container-id-1 div.sk-label input.sk-toggleable__control:checked~label.sk-toggleable__label {\n",
       "  color: var(--sklearn-color-text);\n",
       "  background-color: var(--sklearn-color-unfitted-level-2);\n",
       "}\n",
       "\n",
       "#sk-container-id-1 div.sk-label.fitted input.sk-toggleable__control:checked~label.sk-toggleable__label {\n",
       "  background-color: var(--sklearn-color-fitted-level-2);\n",
       "}\n",
       "\n",
       "/* Estimator-specific style */\n",
       "\n",
       "/* Colorize estimator box */\n",
       "#sk-container-id-1 div.sk-estimator input.sk-toggleable__control:checked~label.sk-toggleable__label {\n",
       "  /* unfitted */\n",
       "  background-color: var(--sklearn-color-unfitted-level-2);\n",
       "}\n",
       "\n",
       "#sk-container-id-1 div.sk-estimator.fitted input.sk-toggleable__control:checked~label.sk-toggleable__label {\n",
       "  /* fitted */\n",
       "  background-color: var(--sklearn-color-fitted-level-2);\n",
       "}\n",
       "\n",
       "#sk-container-id-1 div.sk-label label.sk-toggleable__label,\n",
       "#sk-container-id-1 div.sk-label label {\n",
       "  /* The background is the default theme color */\n",
       "  color: var(--sklearn-color-text-on-default-background);\n",
       "}\n",
       "\n",
       "/* On hover, darken the color of the background */\n",
       "#sk-container-id-1 div.sk-label:hover label.sk-toggleable__label {\n",
       "  color: var(--sklearn-color-text);\n",
       "  background-color: var(--sklearn-color-unfitted-level-2);\n",
       "}\n",
       "\n",
       "/* Label box, darken color on hover, fitted */\n",
       "#sk-container-id-1 div.sk-label.fitted:hover label.sk-toggleable__label.fitted {\n",
       "  color: var(--sklearn-color-text);\n",
       "  background-color: var(--sklearn-color-fitted-level-2);\n",
       "}\n",
       "\n",
       "/* Estimator label */\n",
       "\n",
       "#sk-container-id-1 div.sk-label label {\n",
       "  font-family: monospace;\n",
       "  font-weight: bold;\n",
       "  display: inline-block;\n",
       "  line-height: 1.2em;\n",
       "}\n",
       "\n",
       "#sk-container-id-1 div.sk-label-container {\n",
       "  text-align: center;\n",
       "}\n",
       "\n",
       "/* Estimator-specific */\n",
       "#sk-container-id-1 div.sk-estimator {\n",
       "  font-family: monospace;\n",
       "  border: 1px dotted var(--sklearn-color-border-box);\n",
       "  border-radius: 0.25em;\n",
       "  box-sizing: border-box;\n",
       "  margin-bottom: 0.5em;\n",
       "  /* unfitted */\n",
       "  background-color: var(--sklearn-color-unfitted-level-0);\n",
       "}\n",
       "\n",
       "#sk-container-id-1 div.sk-estimator.fitted {\n",
       "  /* fitted */\n",
       "  background-color: var(--sklearn-color-fitted-level-0);\n",
       "}\n",
       "\n",
       "/* on hover */\n",
       "#sk-container-id-1 div.sk-estimator:hover {\n",
       "  /* unfitted */\n",
       "  background-color: var(--sklearn-color-unfitted-level-2);\n",
       "}\n",
       "\n",
       "#sk-container-id-1 div.sk-estimator.fitted:hover {\n",
       "  /* fitted */\n",
       "  background-color: var(--sklearn-color-fitted-level-2);\n",
       "}\n",
       "\n",
       "/* Specification for estimator info (e.g. \"i\" and \"?\") */\n",
       "\n",
       "/* Common style for \"i\" and \"?\" */\n",
       "\n",
       ".sk-estimator-doc-link,\n",
       "a:link.sk-estimator-doc-link,\n",
       "a:visited.sk-estimator-doc-link {\n",
       "  float: right;\n",
       "  font-size: smaller;\n",
       "  line-height: 1em;\n",
       "  font-family: monospace;\n",
       "  background-color: var(--sklearn-color-background);\n",
       "  border-radius: 1em;\n",
       "  height: 1em;\n",
       "  width: 1em;\n",
       "  text-decoration: none !important;\n",
       "  margin-left: 0.5em;\n",
       "  text-align: center;\n",
       "  /* unfitted */\n",
       "  border: var(--sklearn-color-unfitted-level-1) 1pt solid;\n",
       "  color: var(--sklearn-color-unfitted-level-1);\n",
       "}\n",
       "\n",
       ".sk-estimator-doc-link.fitted,\n",
       "a:link.sk-estimator-doc-link.fitted,\n",
       "a:visited.sk-estimator-doc-link.fitted {\n",
       "  /* fitted */\n",
       "  border: var(--sklearn-color-fitted-level-1) 1pt solid;\n",
       "  color: var(--sklearn-color-fitted-level-1);\n",
       "}\n",
       "\n",
       "/* On hover */\n",
       "div.sk-estimator:hover .sk-estimator-doc-link:hover,\n",
       ".sk-estimator-doc-link:hover,\n",
       "div.sk-label-container:hover .sk-estimator-doc-link:hover,\n",
       ".sk-estimator-doc-link:hover {\n",
       "  /* unfitted */\n",
       "  background-color: var(--sklearn-color-unfitted-level-3);\n",
       "  color: var(--sklearn-color-background);\n",
       "  text-decoration: none;\n",
       "}\n",
       "\n",
       "div.sk-estimator.fitted:hover .sk-estimator-doc-link.fitted:hover,\n",
       ".sk-estimator-doc-link.fitted:hover,\n",
       "div.sk-label-container:hover .sk-estimator-doc-link.fitted:hover,\n",
       ".sk-estimator-doc-link.fitted:hover {\n",
       "  /* fitted */\n",
       "  background-color: var(--sklearn-color-fitted-level-3);\n",
       "  color: var(--sklearn-color-background);\n",
       "  text-decoration: none;\n",
       "}\n",
       "\n",
       "/* Span, style for the box shown on hovering the info icon */\n",
       ".sk-estimator-doc-link span {\n",
       "  display: none;\n",
       "  z-index: 9999;\n",
       "  position: relative;\n",
       "  font-weight: normal;\n",
       "  right: .2ex;\n",
       "  padding: .5ex;\n",
       "  margin: .5ex;\n",
       "  width: min-content;\n",
       "  min-width: 20ex;\n",
       "  max-width: 50ex;\n",
       "  color: var(--sklearn-color-text);\n",
       "  box-shadow: 2pt 2pt 4pt #999;\n",
       "  /* unfitted */\n",
       "  background: var(--sklearn-color-unfitted-level-0);\n",
       "  border: .5pt solid var(--sklearn-color-unfitted-level-3);\n",
       "}\n",
       "\n",
       ".sk-estimator-doc-link.fitted span {\n",
       "  /* fitted */\n",
       "  background: var(--sklearn-color-fitted-level-0);\n",
       "  border: var(--sklearn-color-fitted-level-3);\n",
       "}\n",
       "\n",
       ".sk-estimator-doc-link:hover span {\n",
       "  display: block;\n",
       "}\n",
       "\n",
       "/* \"?\"-specific style due to the `<a>` HTML tag */\n",
       "\n",
       "#sk-container-id-1 a.estimator_doc_link {\n",
       "  float: right;\n",
       "  font-size: 1rem;\n",
       "  line-height: 1em;\n",
       "  font-family: monospace;\n",
       "  background-color: var(--sklearn-color-background);\n",
       "  border-radius: 1rem;\n",
       "  height: 1rem;\n",
       "  width: 1rem;\n",
       "  text-decoration: none;\n",
       "  /* unfitted */\n",
       "  color: var(--sklearn-color-unfitted-level-1);\n",
       "  border: var(--sklearn-color-unfitted-level-1) 1pt solid;\n",
       "}\n",
       "\n",
       "#sk-container-id-1 a.estimator_doc_link.fitted {\n",
       "  /* fitted */\n",
       "  border: var(--sklearn-color-fitted-level-1) 1pt solid;\n",
       "  color: var(--sklearn-color-fitted-level-1);\n",
       "}\n",
       "\n",
       "/* On hover */\n",
       "#sk-container-id-1 a.estimator_doc_link:hover {\n",
       "  /* unfitted */\n",
       "  background-color: var(--sklearn-color-unfitted-level-3);\n",
       "  color: var(--sklearn-color-background);\n",
       "  text-decoration: none;\n",
       "}\n",
       "\n",
       "#sk-container-id-1 a.estimator_doc_link.fitted:hover {\n",
       "  /* fitted */\n",
       "  background-color: var(--sklearn-color-fitted-level-3);\n",
       "}\n",
       "\n",
       ".estimator-table summary {\n",
       "    padding: .5rem;\n",
       "    font-family: monospace;\n",
       "    cursor: pointer;\n",
       "}\n",
       "\n",
       ".estimator-table details[open] {\n",
       "    padding-left: 0.1rem;\n",
       "    padding-right: 0.1rem;\n",
       "    padding-bottom: 0.3rem;\n",
       "}\n",
       "\n",
       ".estimator-table .parameters-table {\n",
       "    margin-left: auto !important;\n",
       "    margin-right: auto !important;\n",
       "}\n",
       "\n",
       ".estimator-table .parameters-table tr:nth-child(odd) {\n",
       "    background-color: #fff;\n",
       "}\n",
       "\n",
       ".estimator-table .parameters-table tr:nth-child(even) {\n",
       "    background-color: #f6f6f6;\n",
       "}\n",
       "\n",
       ".estimator-table .parameters-table tr:hover {\n",
       "    background-color: #e0e0e0;\n",
       "}\n",
       "\n",
       ".estimator-table table td {\n",
       "    border: 1px solid rgba(106, 105, 104, 0.232);\n",
       "}\n",
       "\n",
       ".user-set td {\n",
       "    color:rgb(255, 94, 0);\n",
       "    text-align: left;\n",
       "}\n",
       "\n",
       ".user-set td.value pre {\n",
       "    color:rgb(255, 94, 0) !important;\n",
       "    background-color: transparent !important;\n",
       "}\n",
       "\n",
       ".default td {\n",
       "    color: black;\n",
       "    text-align: left;\n",
       "}\n",
       "\n",
       ".user-set td i,\n",
       ".default td i {\n",
       "    color: black;\n",
       "}\n",
       "\n",
       ".copy-paste-icon {\n",
       "    background-image: url(data:image/svg+xml;base64,PHN2ZyB4bWxucz0iaHR0cDovL3d3dy53My5vcmcvMjAwMC9zdmciIHZpZXdCb3g9IjAgMCA0NDggNTEyIj48IS0tIUZvbnQgQXdlc29tZSBGcmVlIDYuNy4yIGJ5IEBmb250YXdlc29tZSAtIGh0dHBzOi8vZm9udGF3ZXNvbWUuY29tIExpY2Vuc2UgLSBodHRwczovL2ZvbnRhd2Vzb21lLmNvbS9saWNlbnNlL2ZyZWUgQ29weXJpZ2h0IDIwMjUgRm9udGljb25zLCBJbmMuLS0+PHBhdGggZD0iTTIwOCAwTDMzMi4xIDBjMTIuNyAwIDI0LjkgNS4xIDMzLjkgMTQuMWw2Ny45IDY3LjljOSA5IDE0LjEgMjEuMiAxNC4xIDMzLjlMNDQ4IDMzNmMwIDI2LjUtMjEuNSA0OC00OCA0OGwtMTkyIDBjLTI2LjUgMC00OC0yMS41LTQ4LTQ4bDAtMjg4YzAtMjYuNSAyMS41LTQ4IDQ4LTQ4ek00OCAxMjhsODAgMCAwIDY0LTY0IDAgMCAyNTYgMTkyIDAgMC0zMiA2NCAwIDAgNDhjMCAyNi41LTIxLjUgNDgtNDggNDhMNDggNTEyYy0yNi41IDAtNDgtMjEuNS00OC00OEwwIDE3NmMwLTI2LjUgMjEuNS00OCA0OC00OHoiLz48L3N2Zz4=);\n",
       "    background-repeat: no-repeat;\n",
       "    background-size: 14px 14px;\n",
       "    background-position: 0;\n",
       "    display: inline-block;\n",
       "    width: 14px;\n",
       "    height: 14px;\n",
       "    cursor: pointer;\n",
       "}\n",
       "</style><body><div id=\"sk-container-id-1\" class=\"sk-top-container\"><div class=\"sk-text-repr-fallback\"><pre>LinearRegression()</pre><b>In a Jupyter environment, please rerun this cell to show the HTML representation or trust the notebook. <br />On GitHub, the HTML representation is unable to render, please try loading this page with nbviewer.org.</b></div><div class=\"sk-container\" hidden><div class=\"sk-item\"><div class=\"sk-estimator fitted sk-toggleable\"><input class=\"sk-toggleable__control sk-hidden--visually\" id=\"sk-estimator-id-1\" type=\"checkbox\" checked><label for=\"sk-estimator-id-1\" class=\"sk-toggleable__label fitted sk-toggleable__label-arrow\"><div><div>LinearRegression</div></div><div><a class=\"sk-estimator-doc-link fitted\" rel=\"noreferrer\" target=\"_blank\" href=\"https://scikit-learn.org/1.7/modules/generated/sklearn.linear_model.LinearRegression.html\">?<span>Documentation for LinearRegression</span></a><span class=\"sk-estimator-doc-link fitted\">i<span>Fitted</span></span></div></label><div class=\"sk-toggleable__content fitted\" data-param-prefix=\"\">\n",
       "        <div class=\"estimator-table\">\n",
       "            <details>\n",
       "                <summary>Parameters</summary>\n",
       "                <table class=\"parameters-table\">\n",
       "                  <tbody>\n",
       "                    \n",
       "        <tr class=\"default\">\n",
       "            <td><i class=\"copy-paste-icon\"\n",
       "                 onclick=\"copyToClipboard('fit_intercept',\n",
       "                          this.parentElement.nextElementSibling)\"\n",
       "            ></i></td>\n",
       "            <td class=\"param\">fit_intercept&nbsp;</td>\n",
       "            <td class=\"value\">True</td>\n",
       "        </tr>\n",
       "    \n",
       "\n",
       "        <tr class=\"default\">\n",
       "            <td><i class=\"copy-paste-icon\"\n",
       "                 onclick=\"copyToClipboard('copy_X',\n",
       "                          this.parentElement.nextElementSibling)\"\n",
       "            ></i></td>\n",
       "            <td class=\"param\">copy_X&nbsp;</td>\n",
       "            <td class=\"value\">True</td>\n",
       "        </tr>\n",
       "    \n",
       "\n",
       "        <tr class=\"default\">\n",
       "            <td><i class=\"copy-paste-icon\"\n",
       "                 onclick=\"copyToClipboard('tol',\n",
       "                          this.parentElement.nextElementSibling)\"\n",
       "            ></i></td>\n",
       "            <td class=\"param\">tol&nbsp;</td>\n",
       "            <td class=\"value\">1e-06</td>\n",
       "        </tr>\n",
       "    \n",
       "\n",
       "        <tr class=\"default\">\n",
       "            <td><i class=\"copy-paste-icon\"\n",
       "                 onclick=\"copyToClipboard('n_jobs',\n",
       "                          this.parentElement.nextElementSibling)\"\n",
       "            ></i></td>\n",
       "            <td class=\"param\">n_jobs&nbsp;</td>\n",
       "            <td class=\"value\">None</td>\n",
       "        </tr>\n",
       "    \n",
       "\n",
       "        <tr class=\"default\">\n",
       "            <td><i class=\"copy-paste-icon\"\n",
       "                 onclick=\"copyToClipboard('positive',\n",
       "                          this.parentElement.nextElementSibling)\"\n",
       "            ></i></td>\n",
       "            <td class=\"param\">positive&nbsp;</td>\n",
       "            <td class=\"value\">False</td>\n",
       "        </tr>\n",
       "    \n",
       "                  </tbody>\n",
       "                </table>\n",
       "            </details>\n",
       "        </div>\n",
       "    </div></div></div></div></div><script>function copyToClipboard(text, element) {\n",
       "    // Get the parameter prefix from the closest toggleable content\n",
       "    const toggleableContent = element.closest('.sk-toggleable__content');\n",
       "    const paramPrefix = toggleableContent ? toggleableContent.dataset.paramPrefix : '';\n",
       "    const fullParamName = paramPrefix ? `${paramPrefix}${text}` : text;\n",
       "\n",
       "    const originalStyle = element.style;\n",
       "    const computedStyle = window.getComputedStyle(element);\n",
       "    const originalWidth = computedStyle.width;\n",
       "    const originalHTML = element.innerHTML.replace('Copied!', '');\n",
       "\n",
       "    navigator.clipboard.writeText(fullParamName)\n",
       "        .then(() => {\n",
       "            element.style.width = originalWidth;\n",
       "            element.style.color = 'green';\n",
       "            element.innerHTML = \"Copied!\";\n",
       "\n",
       "            setTimeout(() => {\n",
       "                element.innerHTML = originalHTML;\n",
       "                element.style = originalStyle;\n",
       "            }, 2000);\n",
       "        })\n",
       "        .catch(err => {\n",
       "            console.error('Failed to copy:', err);\n",
       "            element.style.color = 'red';\n",
       "            element.innerHTML = \"Failed!\";\n",
       "            setTimeout(() => {\n",
       "                element.innerHTML = originalHTML;\n",
       "                element.style = originalStyle;\n",
       "            }, 2000);\n",
       "        });\n",
       "    return false;\n",
       "}\n",
       "\n",
       "document.querySelectorAll('.fa-regular.fa-copy').forEach(function(element) {\n",
       "    const toggleableContent = element.closest('.sk-toggleable__content');\n",
       "    const paramPrefix = toggleableContent ? toggleableContent.dataset.paramPrefix : '';\n",
       "    const paramName = element.parentElement.nextElementSibling.textContent.trim();\n",
       "    const fullParamName = paramPrefix ? `${paramPrefix}${paramName}` : paramName;\n",
       "\n",
       "    element.setAttribute('title', fullParamName);\n",
       "});\n",
       "</script></body>"
      ],
      "text/plain": [
       "LinearRegression()"
      ]
     },
     "execution_count": 4,
     "metadata": {},
     "output_type": "execute_result"
    }
   ],
   "source": [
    "reg = LinearRegression()\n",
    "reg.fit(X_train, y_train)"
   ]
  },
  {
   "cell_type": "code",
   "execution_count": 5,
   "id": "cf27c5f3",
   "metadata": {},
   "outputs": [
    {
     "name": "stdout",
     "output_type": "stream",
     "text": [
      "this is slope [  37.90402135 -241.96436231  542.42875852  347.70384391 -931.48884588\n",
      "  518.06227698  163.41998299  275.31790158  736.1988589    48.67065743]\n",
      "this is intercept 151.34560453985995\n"
     ]
    }
   ],
   "source": [
    "print('this is slope',reg.coef_)\n",
    "print('this is intercept',reg.intercept_)"
   ]
  },
  {
   "cell_type": "code",
   "execution_count": 7,
   "id": "3c8b04aa",
   "metadata": {},
   "outputs": [
    {
     "data": {
      "text/plain": [
       "0.4526027629719197"
      ]
     },
     "execution_count": 7,
     "metadata": {},
     "output_type": "execute_result"
    }
   ],
   "source": [
    "from sklearn.metrics import r2_score\n",
    "y_pred = reg.predict(X_test)\n",
    "r2_score(y_test, y_pred)"
   ]
  },
  {
   "cell_type": "code",
   "execution_count": 23,
   "id": "6a471a40",
   "metadata": {},
   "outputs": [],
   "source": [
    "class MBgdRregressor:\n",
    "    def __init__(self,batch_size = 10, learning_rate=0.01, epochs= 100):\n",
    "        self.coef_ = None \n",
    "        self.intercept_ = None\n",
    "        self.lr = learning_rate\n",
    "        self.epochs = epochs\n",
    "        self.batch_size = batch_size\n",
    "\n",
    "    def fit(self, X_train, y_train):\n",
    "        #we are here initializing our coef\n",
    "        self.intercept_ = 0\n",
    "        self.coef_ = np.ones(X_train.shape[1])\n",
    "\n",
    "        import random\n",
    "        \n",
    "\n",
    "        for i in range(self.epochs):\n",
    "            for j in range(int(X_train.shape[0]/self.batch_size)):\n",
    "                \n",
    "                idx = random.sample(range(X_train.shape[0]), self.batch_size)\n",
    "                \n",
    "\n",
    "                y_hat = np.dot(X_train[idx], self.coef_) + self.intercept_\n",
    "                intercept_der = -2 * np.mean(y_train[idx] - y_hat) \n",
    "                self.intercept_ = self.intercept_ - (self.lr * intercept_der)\n",
    "                coef_der = -2 * np.dot((y_train[idx] - y_hat), X_train[idx])\n",
    "                self.coef_ = self.coef_ - (self.lr * coef_der)\n",
    "\n",
    "\n",
    "        print(self.intercept_, self.coef_)\n",
    "\n",
    "            \n",
    "    def predict(self,X_test):\n",
    "        return np.dot(X_test, self.coef_)+ self.intercept_\n",
    "        "
   ]
  },
  {
   "cell_type": "code",
   "execution_count": 24,
   "id": "02c79ab5",
   "metadata": {},
   "outputs": [],
   "source": [
    "mbr = MBgdRregressor(batch_size=int(X_train.shape[0]/10), learning_rate=0.01, epochs=50)\n"
   ]
  },
  {
   "cell_type": "code",
   "execution_count": 25,
   "id": "c9d7888a",
   "metadata": {},
   "outputs": [
    {
     "name": "stdout",
     "output_type": "stream",
     "text": [
      "152.34769658060873 [  56.33456266  -86.74106219  359.85748603  261.27955308   -1.08837529\n",
      "  -38.33911926 -175.67135103  140.34872681  281.7161777   150.6987477 ]\n"
     ]
    }
   ],
   "source": [
    "mbr.fit(X_train, y_train)"
   ]
  },
  {
   "cell_type": "code",
   "execution_count": 26,
   "id": "2f2c65a1",
   "metadata": {},
   "outputs": [],
   "source": [
    "y_pred = mbr.predict(X_test)"
   ]
  },
  {
   "cell_type": "code",
   "execution_count": 27,
   "id": "dce882db",
   "metadata": {},
   "outputs": [
    {
     "data": {
      "text/plain": [
       "0.4457721324305457"
      ]
     },
     "execution_count": 27,
     "metadata": {},
     "output_type": "execute_result"
    }
   ],
   "source": [
    "r2_score(y_test, y_pred)"
   ]
  },
  {
   "cell_type": "markdown",
   "id": "dbb5c048",
   "metadata": {},
   "source": [
    "# Mini-Batch Gradient Descent (MBGD)\n",
    "\n",
    "* Uses a small random subset (batch) of data.\n",
    "\n",
    "* Updates weights per batch.\n",
    "\n",
    "* Pros: Best of both worlds – faster than BGD, less noisy than SGD.\n",
    "\n",
    "* Cons: Still depends on batch size tuning."
   ]
  },
  {
   "cell_type": "code",
   "execution_count": null,
   "id": "41cedd56",
   "metadata": {},
   "outputs": [
    {
     "data": {
      "application/vnd.jupyter.widget-view+json": {
       "model_id": "9eb8f40781d74f0d852fade8a9002e55",
       "version_major": 2,
       "version_minor": 0
      },
      "text/plain": [
       "VBox(children=(IntSlider(value=20, description='Batch Size:', min=5, step=5), FloatSlider(value=0.01, descript…"
      ]
     },
     "metadata": {},
     "output_type": "display_data"
    },
    {
     "data": {
      "application/vnd.jupyter.widget-view+json": {
       "model_id": "63bbc27452d24d3bb039a27aad367f8a",
       "version_major": 2,
       "version_minor": 0
      },
      "text/plain": [
       "Output()"
      ]
     },
     "metadata": {},
     "output_type": "display_data"
    }
   ],
   "source": [
    "import numpy as np\n",
    "import plotly.graph_objs as go\n",
    "import ipywidgets as widgets\n",
    "from IPython.display import display\n",
    "\n",
    "# ---------------------\n",
    "# Mini-Batch Regressor (stores history)\n",
    "# ---------------------\n",
    "class MBgdRregressor:\n",
    "    def __init__(self, batch_size=10, learning_rate=0.01, epochs=100):\n",
    "        self.coef_ = None\n",
    "        self.intercept_ = None\n",
    "        self.lr = learning_rate\n",
    "        self.epochs = epochs\n",
    "        self.batch_size = batch_size\n",
    "        self.history = []  # store (coef0, coef1, loss)\n",
    "\n",
    "    def fit(self, X_train, y_train):\n",
    "        self.intercept_ = 0\n",
    "        self.coef_ = np.ones(X_train.shape[1])\n",
    "        self.history = []\n",
    "\n",
    "        for i in range(self.epochs):\n",
    "            for j in range(int(X_train.shape[0] / self.batch_size)):\n",
    "                idx = np.random.choice(X_train.shape[0], self.batch_size, replace=False)\n",
    "                y_hat = np.dot(X_train[idx], self.coef_) + self.intercept_\n",
    "\n",
    "                # derivatives\n",
    "                intercept_der = -2 * np.mean(y_train[idx] - y_hat)\n",
    "                coef_der = -2 * np.dot((y_train[idx] - y_hat), X_train[idx])\n",
    "\n",
    "                # update\n",
    "                self.intercept_ -= self.lr * intercept_der\n",
    "                self.coef_ -= self.lr * coef_der\n",
    "\n",
    "                # compute loss\n",
    "                full_y_hat = X_train @ self.coef_ + self.intercept_\n",
    "                loss = np.mean((y_train - full_y_hat) ** 2)\n",
    "\n",
    "                if len(self.coef_) >= 2:\n",
    "                    self.history.append((self.coef_[0], self.coef_[1], loss))\n",
    "\n",
    "    def predict(self, X_test):\n",
    "        return np.dot(X_test, self.coef_) + self.intercept_\n",
    "\n",
    "\n",
    "# ---------------------\n",
    "# Generate synthetic dataset (2D → easy to plot)\n",
    "# ---------------------\n",
    "np.random.seed(42)\n",
    "X = np.random.randn(200, 2)\n",
    "true_coef = np.array([3.0, -2.0])\n",
    "y = X @ true_coef + 5 + np.random.randn(200) * 0.5\n",
    "\n",
    "# ---------------------\n",
    "# Interactive function\n",
    "# ---------------------\n",
    "def run_and_plot(batch_size=20, learning_rate=0.01, epochs=30):\n",
    "    model = MBgdRregressor(batch_size=batch_size, learning_rate=learning_rate, epochs=epochs)\n",
    "    model.fit(X, y)\n",
    "    path = np.array(model.history)\n",
    "\n",
    "    # Loss surface\n",
    "    w0 = np.linspace(-1, 6, 80)\n",
    "    w1 = np.linspace(-5, 3, 80)\n",
    "    W0, W1 = np.meshgrid(w0, w1)\n",
    "    Loss = np.zeros_like(W0)\n",
    "\n",
    "    for i in range(W0.shape[0]):\n",
    "        for j in range(W0.shape[1]):\n",
    "            coef = np.array([W0[i, j], W1[i, j]])\n",
    "            y_hat = X @ coef + 5\n",
    "            Loss[i, j] = np.mean((y - y_hat) ** 2)\n",
    "\n",
    "    # Surface\n",
    "    surface = go.Surface(x=W0, y=W1, z=Loss, colorscale='Viridis', opacity=0.7)\n",
    "\n",
    "    # Path of descent\n",
    "    traj = go.Scatter3d(\n",
    "        x=path[:, 0],\n",
    "        y=path[:, 1],\n",
    "        z=path[:, 2],\n",
    "        mode='lines+markers',\n",
    "        line=dict(color='red', width=4),\n",
    "        marker=dict(size=5, color='red')\n",
    "    )\n",
    "\n",
    "    fig = go.Figure(data=[surface, traj])\n",
    "    fig.update_layout(\n",
    "        scene=dict(\n",
    "            xaxis_title='Coefficient 0',\n",
    "            yaxis_title='Coefficient 1',\n",
    "            zaxis_title='Loss (MSE)'\n",
    "        ),\n",
    "        title=\"Interactive Gradient Descent on Loss Surface\"\n",
    "    )\n",
    "\n",
    "    fig.show()\n",
    "\n",
    "# ---------------------\n",
    "# UI Controls\n",
    "# ---------------------\n",
    "batch_slider = widgets.IntSlider(value=20, min=5, max=100, step=5, description='Batch Size:')\n",
    "lr_slider = widgets.FloatSlider(value=0.01, min=0.001, max=0.1, step=0.001, description='LR:')\n",
    "epochs_slider = widgets.IntSlider(value=30, min=10, max=100, step=5, description='Epochs:')\n",
    "\n",
    "ui = widgets.VBox([batch_slider, lr_slider, epochs_slider])\n",
    "out = widgets.interactive_output(run_and_plot, {\n",
    "    'batch_size': batch_slider,\n",
    "    'learning_rate': lr_slider,\n",
    "    'epochs': epochs_slider\n",
    "})\n",
    "\n",
    "display(ui, out)\n"
   ]
  },
  {
   "cell_type": "markdown",
   "id": "09cb4295",
   "metadata": {},
   "source": [
    "# ALL GD VISULISATIONS\n",
    "\n",
    "* Batch Gradient Descent (BGD)\n",
    "\n",
    "Uses all training data to compute the gradient.\n",
    "\n",
    "Updates weights once per epoch.\n",
    "\n",
    "Pros: Stable, guaranteed to move toward global minimum (for convex problems).\n",
    "\n",
    "Cons: Very slow for large datasets.\n",
    "\n",
    "\n",
    "\n",
    "\n",
    "* Stochastic Gradient Descent (SGD)\n",
    "\n",
    "Uses one random sample at a time to compute gradient.\n",
    "\n",
    "Updates weights every sample.\n",
    "\n",
    "Pros: Fast, escapes local minima, works well for online learning.\n",
    "\n",
    "Cons: Noisy path, can bounce around instead of smoothly converging.\n",
    "\n",
    "\n",
    "* Adam (Adaptive Moment Estimation)\n",
    "\n",
    "Advanced optimizer, extension of SGD.\n",
    "\n",
    "Uses momentum (history of past gradients) + adaptive learning rate.\n",
    "\n",
    "Pros: Very fast, reliable, works great for deep learning.\n",
    "\n",
    "Cons: More complex, needs tuning of extra parameters (beta1, beta2).\n"
   ]
  },
  {
   "cell_type": "code",
   "execution_count": 2,
   "id": "e7756ec9",
   "metadata": {},
   "outputs": [
    {
     "data": {
      "application/vnd.plotly.v1+json": {
       "config": {
        "plotlyServerURL": "https://plot.ly"
       },
       "data": [
        {
         "colorscale": [
          [
           0,
           "#440154"
          ],
          [
           0.1111111111111111,
           "#482878"
          ],
          [
           0.2222222222222222,
           "#3e4989"
          ],
          [
           0.3333333333333333,
           "#31688e"
          ],
          [
           0.4444444444444444,
           "#26828e"
          ],
          [
           0.5555555555555556,
           "#1f9e89"
          ],
          [
           0.6666666666666666,
           "#35b779"
          ],
          [
           0.7777777777777778,
           "#6ece58"
          ],
          [
           0.8888888888888888,
           "#b5de2b"
          ],
          [
           1,
           "#fde725"
          ]
         ],
         "opacity": 0.6,
         "type": "surface",
         "x": {
          "bdata": "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",
          "dtype": "f8",
          "shape": "80, 80"
         },
         "y": {
          "bdata": "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",
          "dtype": "f8",
          "shape": "80, 80"
         },
         "z": {
          "bdata": "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",
          "dtype": "f8",
          "shape": "80, 80"
         }
        },
        {
         "line": {
          "color": "blue",
          "width": 4
         },
         "marker": {
          "size": 5
         },
         "mode": "lines+markers",
         "name": "Batch GD",
         "type": "scatter3d",
         "x": {
          "bdata": "huhlbl8k8z9WjU9HTPv1P4KHw/A1jPg/1m0Vk9Xd+j9zzqiAP/b8P+rmIvXy2v4/s2c0KnRIAEBgsPkGTw4BQKlCxSISwQFAuQ2rr5NiAkBtki3FfPQCQNG+9LBNeANAvx0V3mHvA0AunvFc81oEQJ/8zRQevARAkMhKp+ITBUB75jsNKWMFQBJRlfPCqgVAn+2F3m3rBUCS50MY1SUGQM+8h3CTWgZA1pk50TSKBkAMpWasN7UGQHJLMEcO3AZAD4kN5R//BkAXn2TWyR4HQE7hOW1gOwdASn9t2i9VB0CdwsX1fGwHQGWOzPKFgQdAu3NVBIOUB0Bt6lTwpqUHQA28iJUftQdALglNZBbDB0CAJ9jLsM8HQB2X+ZwQ2wdASChdY1TlB0AW3Dq2l+4HQK3SRYHz9gdAQICYRn7+B0D1MkpaTAUIQL+ASRhwCwhA7VIIFfoQCEA4z3hJ+RUIQAQxzjp7GghAAaJpHoweCEAUK1H6NiIIQIrThcKFJQhAU96Fc4EoCEDQtUAqMisIQA==",
          "dtype": "f8"
         },
         "y": {
          "bdata": "ls2/4tOb5z8YUdQucOffP1LXn9Gs7tE/rDeaOwO+tD8gmJ85ecW5v55x7ZbgDNG/uG1NC8+52r83IgJRfcbhv1Zjo6yzzOW/EFEm1Dl46b9SUV1O/tDsvwIdW3U/3u+/Fq0eTE1T8b8QKkLqDJjyvwxTLGEgwPO/wWlyBgzO9L9Ade0GHMT1vwkGrUBppPa/k/bUst1w978AFVSMOCv4vyXxpOER1fi/PoEcEd5v+b8OxKrc8Pz5v77iXj+Affq//pV5BKfy+r9CylwlZ137v03RNfOrvvu/cA/XEEwX/L+1Q9ZAC2j8vzKdrAucsfy/QCNFQaH0/L+79RtZrzH9v8ELzbNNaf2/NdyywPeb/b9CTvwJHsr9v6QFbSkn9P2/EzPLp3Aa/r9oKdLITz3+v4q/WEUSXf6/qbA19f55/r/Zb0pqVpT+v9IA/n1TrP6/YCBV0ivC/r8FJbtHENb+vwlQd2gt6P6/GZq0yqv4/r9/Me5psAf/v2u7gPhcFf+/ftEPKtAh/79gB2D3JS3/vw==",
          "dtype": "f8"
         },
         "z": {
          "bdata": "3z/pg0iRPUBhF5FJrTo4QKXnAXpI3TNA1b9b9ZNLMECWNShUvMAqQEo0J1eG+iVAxrpTItsSIkD2fuCjR8IdQJLGgeVniBhA0mLYHdxBFEAae3/cT8IQQGzNUlsLywtAiMdkCLkbB0DNfPLuNEYDQOZ0nTrgIgBAcplPeqgi+z8K3g81Iu72P0jB3UPUfPM/OjHsD0mr8D9DlOsi/bjsPzZj6aZy8eg/miv40hzZ5T+SqfCWNFDjP2gJmMS4POE/SBboQ8IS3z8a+tEAhUncP3ui18o1Ado/V9pC6Xwi2D9jCBhDPprWP5qL/ozUWNU/sx/5RXBR1D8Mgmj8k3nTP9ahxIWoyNI/oLKnzKQ30j9bUmmkxcDRPx2h9bdSX9E/ahGUMW4P0T+MnYMo7c3QP9jBODw3mNA/L+NaDyxs0D8dfGKRDUjQP05aaTduKtA/gDVgbSIS0D94KjBUafzPPyQjeFe3288/nBIn8eTAzz/mtCmk46rPP5qAY67VmM8/7f3lPQWKzz9zMd483X3PPw==",
          "dtype": "f8"
         }
        },
        {
         "line": {
          "color": "red",
          "width": 4
         },
         "marker": {
          "size": 5
         },
         "mode": "lines+markers",
         "name": "SGD",
         "type": "scatter3d",
         "x": {
          "bdata": "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",
          "dtype": "f8"
         },
         "y": {
          "bdata": "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",
          "dtype": "f8"
         },
         "z": {
          "bdata": "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",
          "dtype": "f8"
         }
        },
        {
         "line": {
          "color": "green",
          "width": 4
         },
         "marker": {
          "size": 5
         },
         "mode": "lines+markers",
         "name": "Adam",
         "type": "scatter3d",
         "x": {
          "bdata": "Pg3EzMzM8D8tG4RwdJnxPzomUu7cZfI/BzOQa+sx8z8LxYs6hP3zP9hePuaKyPQ/lL0rP+KS9T/bZ1VpbFz2PyI9OusKJfc/6vLXvZ7s9z/v0qNdCLP4PzKSb9wnePk/gbMu9Nw7+j+FjpAaB/76P9S7YpWFvvs/XkOvjzd9/D+qcYkv/Dn9P/Cee6yy9P0/0W+HZjqt/j9aIqn9cmP/P56m5jSeCwBA8YeTiTtkAEDAh2n1gbsAQGHh2EFiEQFAc8Cwlc1lAUDcSZ+BtbgBQDKdpgwMCgJAh5Z3wMNZAkCM7KG1z6cCQPUniJ8j9AJAFeoE2LM+A0AhFa5qdYcDQLazoR9ezgNANgLIhWQTBEAkxXX8f1YEQOMsWryolwRA0O+j39fWBEDXBEppBxQFQKGEZUsyTwVAaK6LbFSIBUBn3Bisar8FQGhVX+Vy9AVAp1Sv8WsnBkDMTDCpVVgGQFVJhuIwhwZA81RBcf+zBkC+4xcjxN4GQF1d8LuCBwdA+vTA8D8uB0BR809hAVMHQA==",
          "dtype": "f8"
         },
         "y": {
          "bdata": "xIBzZmZm7j8lt9n0AM3sP7VoJZrzM+s/Hpz8DWOb6T8/jHi9dAPoPzeuBrdObOY/zbiMlRfW5D9SofJq9kDjPz/+NaoSreE/zDQqEZQa4D/2lRAkRRPdP0xm4HnM9Nk/hej3Ug7a1j/ogQbBWsPTP9raV4wBsdA/j0aFEaRGyz/ITCjXNTXFP+oHiYqoXL4/elefsjJlsj96EqQw5xSaP5rb7a1dCJW/5m2uq5vvsL884oCmM4K8v6rn8kNj/MO/HD8ENyGpyb+4AV5tzkbPv80lgcd0atK//oRxrnop1b+A5KpvPODXv8i3mMh/jtq/HOXSwww03b9TOm/LrdDfv8Po4NwXMuG/7OVK9DB34r9y03Mfi7fjvwYLlZ4Q8+S/v98OBK0p5r+FySE5TVvnv9RY+IHfh+i/8AkFgVOv6b9VqrY5mtHqv8+jhRKm7uu/0ylc1moG7b8U+1q13Rjuv2Qt/ET1Je+/ZafKv9QW8L/pBp3h+Zfwv6lKAGhnFvG/mWrUYhuS8b8qCVSQFAvyvw==",
          "dtype": "f8"
         },
         "z": {
          "bdata": "Lfq6jn2UQUD3cS44bR5BQP1VFsdAqkBArC6Mt/83QEA7788VYo8/QOzCy362sj5AryejkAjaPUA4Q48NYwU9QA0KOYbPNDxA/ePtTVZoO0DzQVNw/p86QEXcrajN2zlA4ZrNWsgbOUCmWquN8V84QNrrwedKqDdAnNEnrdT0NkBAhmu/jUU2QFhdMJ9zmjVAsZOGb4LzNEC9vPX6tFA0QHqJLboEsjNA5OFN3GkXM0BiebRQ24AyQGBpO9JO7jFASvTR87hfMUCuXVYuDdUwQGnDle89TjBApi2qVHmWL0AUe4nO85cuQNMAfq3KoC1At45gxtuwLED/Zw6IA8grQCYAFCId5ipAezTcqwILKkB9sh1MjTYpQK2MQGCVaChADfB2o/KgJ0CNgkVVfN8mQJgxOl8JJCZAFiKTeXBuJUDuBZtOiL4kQD5RhJwnFCRAKZmRVSVvI0DswV6+WM8iQNN3JIqZNCJA0qnV9L+eIUAiRP3apA0hQJ8iSc8hgSBAgwJsWyLyH0BI7q1YnOoeQA==",
          "dtype": "f8"
         }
        }
       ],
       "layout": {
        "scene": {
         "xaxis": {
          "title": {
           "text": "Coefficient 0"
          }
         },
         "yaxis": {
          "title": {
           "text": "Coefficient 1"
          }
         },
         "zaxis": {
          "title": {
           "text": "Loss (MSE)"
          }
         }
        },
        "template": {
         "data": {
          "bar": [
           {
            "error_x": {
             "color": "#2a3f5f"
            },
            "error_y": {
             "color": "#2a3f5f"
            },
            "marker": {
             "line": {
              "color": "#E5ECF6",
              "width": 0.5
             },
             "pattern": {
              "fillmode": "overlay",
              "size": 10,
              "solidity": 0.2
             }
            },
            "type": "bar"
           }
          ],
          "barpolar": [
           {
            "marker": {
             "line": {
              "color": "#E5ECF6",
              "width": 0.5
             },
             "pattern": {
              "fillmode": "overlay",
              "size": 10,
              "solidity": 0.2
             }
            },
            "type": "barpolar"
           }
          ],
          "carpet": [
           {
            "aaxis": {
             "endlinecolor": "#2a3f5f",
             "gridcolor": "white",
             "linecolor": "white",
             "minorgridcolor": "white",
             "startlinecolor": "#2a3f5f"
            },
            "baxis": {
             "endlinecolor": "#2a3f5f",
             "gridcolor": "white",
             "linecolor": "white",
             "minorgridcolor": "white",
             "startlinecolor": "#2a3f5f"
            },
            "type": "carpet"
           }
          ],
          "choropleth": [
           {
            "colorbar": {
             "outlinewidth": 0,
             "ticks": ""
            },
            "type": "choropleth"
           }
          ],
          "contour": [
           {
            "colorbar": {
             "outlinewidth": 0,
             "ticks": ""
            },
            "colorscale": [
             [
              0,
              "#0d0887"
             ],
             [
              0.1111111111111111,
              "#46039f"
             ],
             [
              0.2222222222222222,
              "#7201a8"
             ],
             [
              0.3333333333333333,
              "#9c179e"
             ],
             [
              0.4444444444444444,
              "#bd3786"
             ],
             [
              0.5555555555555556,
              "#d8576b"
             ],
             [
              0.6666666666666666,
              "#ed7953"
             ],
             [
              0.7777777777777778,
              "#fb9f3a"
             ],
             [
              0.8888888888888888,
              "#fdca26"
             ],
             [
              1,
              "#f0f921"
             ]
            ],
            "type": "contour"
           }
          ],
          "contourcarpet": [
           {
            "colorbar": {
             "outlinewidth": 0,
             "ticks": ""
            },
            "type": "contourcarpet"
           }
          ],
          "heatmap": [
           {
            "colorbar": {
             "outlinewidth": 0,
             "ticks": ""
            },
            "colorscale": [
             [
              0,
              "#0d0887"
             ],
             [
              0.1111111111111111,
              "#46039f"
             ],
             [
              0.2222222222222222,
              "#7201a8"
             ],
             [
              0.3333333333333333,
              "#9c179e"
             ],
             [
              0.4444444444444444,
              "#bd3786"
             ],
             [
              0.5555555555555556,
              "#d8576b"
             ],
             [
              0.6666666666666666,
              "#ed7953"
             ],
             [
              0.7777777777777778,
              "#fb9f3a"
             ],
             [
              0.8888888888888888,
              "#fdca26"
             ],
             [
              1,
              "#f0f921"
             ]
            ],
            "type": "heatmap"
           }
          ],
          "histogram": [
           {
            "marker": {
             "pattern": {
              "fillmode": "overlay",
              "size": 10,
              "solidity": 0.2
             }
            },
            "type": "histogram"
           }
          ],
          "histogram2d": [
           {
            "colorbar": {
             "outlinewidth": 0,
             "ticks": ""
            },
            "colorscale": [
             [
              0,
              "#0d0887"
             ],
             [
              0.1111111111111111,
              "#46039f"
             ],
             [
              0.2222222222222222,
              "#7201a8"
             ],
             [
              0.3333333333333333,
              "#9c179e"
             ],
             [
              0.4444444444444444,
              "#bd3786"
             ],
             [
              0.5555555555555556,
              "#d8576b"
             ],
             [
              0.6666666666666666,
              "#ed7953"
             ],
             [
              0.7777777777777778,
              "#fb9f3a"
             ],
             [
              0.8888888888888888,
              "#fdca26"
             ],
             [
              1,
              "#f0f921"
             ]
            ],
            "type": "histogram2d"
           }
          ],
          "histogram2dcontour": [
           {
            "colorbar": {
             "outlinewidth": 0,
             "ticks": ""
            },
            "colorscale": [
             [
              0,
              "#0d0887"
             ],
             [
              0.1111111111111111,
              "#46039f"
             ],
             [
              0.2222222222222222,
              "#7201a8"
             ],
             [
              0.3333333333333333,
              "#9c179e"
             ],
             [
              0.4444444444444444,
              "#bd3786"
             ],
             [
              0.5555555555555556,
              "#d8576b"
             ],
             [
              0.6666666666666666,
              "#ed7953"
             ],
             [
              0.7777777777777778,
              "#fb9f3a"
             ],
             [
              0.8888888888888888,
              "#fdca26"
             ],
             [
              1,
              "#f0f921"
             ]
            ],
            "type": "histogram2dcontour"
           }
          ],
          "mesh3d": [
           {
            "colorbar": {
             "outlinewidth": 0,
             "ticks": ""
            },
            "type": "mesh3d"
           }
          ],
          "parcoords": [
           {
            "line": {
             "colorbar": {
              "outlinewidth": 0,
              "ticks": ""
             }
            },
            "type": "parcoords"
           }
          ],
          "pie": [
           {
            "automargin": true,
            "type": "pie"
           }
          ],
          "scatter": [
           {
            "fillpattern": {
             "fillmode": "overlay",
             "size": 10,
             "solidity": 0.2
            },
            "type": "scatter"
           }
          ],
          "scatter3d": [
           {
            "line": {
             "colorbar": {
              "outlinewidth": 0,
              "ticks": ""
             }
            },
            "marker": {
             "colorbar": {
              "outlinewidth": 0,
              "ticks": ""
             }
            },
            "type": "scatter3d"
           }
          ],
          "scattercarpet": [
           {
            "marker": {
             "colorbar": {
              "outlinewidth": 0,
              "ticks": ""
             }
            },
            "type": "scattercarpet"
           }
          ],
          "scattergeo": [
           {
            "marker": {
             "colorbar": {
              "outlinewidth": 0,
              "ticks": ""
             }
            },
            "type": "scattergeo"
           }
          ],
          "scattergl": [
           {
            "marker": {
             "colorbar": {
              "outlinewidth": 0,
              "ticks": ""
             }
            },
            "type": "scattergl"
           }
          ],
          "scattermap": [
           {
            "marker": {
             "colorbar": {
              "outlinewidth": 0,
              "ticks": ""
             }
            },
            "type": "scattermap"
           }
          ],
          "scattermapbox": [
           {
            "marker": {
             "colorbar": {
              "outlinewidth": 0,
              "ticks": ""
             }
            },
            "type": "scattermapbox"
           }
          ],
          "scatterpolar": [
           {
            "marker": {
             "colorbar": {
              "outlinewidth": 0,
              "ticks": ""
             }
            },
            "type": "scatterpolar"
           }
          ],
          "scatterpolargl": [
           {
            "marker": {
             "colorbar": {
              "outlinewidth": 0,
              "ticks": ""
             }
            },
            "type": "scatterpolargl"
           }
          ],
          "scatterternary": [
           {
            "marker": {
             "colorbar": {
              "outlinewidth": 0,
              "ticks": ""
             }
            },
            "type": "scatterternary"
           }
          ],
          "surface": [
           {
            "colorbar": {
             "outlinewidth": 0,
             "ticks": ""
            },
            "colorscale": [
             [
              0,
              "#0d0887"
             ],
             [
              0.1111111111111111,
              "#46039f"
             ],
             [
              0.2222222222222222,
              "#7201a8"
             ],
             [
              0.3333333333333333,
              "#9c179e"
             ],
             [
              0.4444444444444444,
              "#bd3786"
             ],
             [
              0.5555555555555556,
              "#d8576b"
             ],
             [
              0.6666666666666666,
              "#ed7953"
             ],
             [
              0.7777777777777778,
              "#fb9f3a"
             ],
             [
              0.8888888888888888,
              "#fdca26"
             ],
             [
              1,
              "#f0f921"
             ]
            ],
            "type": "surface"
           }
          ],
          "table": [
           {
            "cells": {
             "fill": {
              "color": "#EBF0F8"
             },
             "line": {
              "color": "white"
             }
            },
            "header": {
             "fill": {
              "color": "#C8D4E3"
             },
             "line": {
              "color": "white"
             }
            },
            "type": "table"
           }
          ]
         },
         "layout": {
          "annotationdefaults": {
           "arrowcolor": "#2a3f5f",
           "arrowhead": 0,
           "arrowwidth": 1
          },
          "autotypenumbers": "strict",
          "coloraxis": {
           "colorbar": {
            "outlinewidth": 0,
            "ticks": ""
           }
          },
          "colorscale": {
           "diverging": [
            [
             0,
             "#8e0152"
            ],
            [
             0.1,
             "#c51b7d"
            ],
            [
             0.2,
             "#de77ae"
            ],
            [
             0.3,
             "#f1b6da"
            ],
            [
             0.4,
             "#fde0ef"
            ],
            [
             0.5,
             "#f7f7f7"
            ],
            [
             0.6,
             "#e6f5d0"
            ],
            [
             0.7,
             "#b8e186"
            ],
            [
             0.8,
             "#7fbc41"
            ],
            [
             0.9,
             "#4d9221"
            ],
            [
             1,
             "#276419"
            ]
           ],
           "sequential": [
            [
             0,
             "#0d0887"
            ],
            [
             0.1111111111111111,
             "#46039f"
            ],
            [
             0.2222222222222222,
             "#7201a8"
            ],
            [
             0.3333333333333333,
             "#9c179e"
            ],
            [
             0.4444444444444444,
             "#bd3786"
            ],
            [
             0.5555555555555556,
             "#d8576b"
            ],
            [
             0.6666666666666666,
             "#ed7953"
            ],
            [
             0.7777777777777778,
             "#fb9f3a"
            ],
            [
             0.8888888888888888,
             "#fdca26"
            ],
            [
             1,
             "#f0f921"
            ]
           ],
           "sequentialminus": [
            [
             0,
             "#0d0887"
            ],
            [
             0.1111111111111111,
             "#46039f"
            ],
            [
             0.2222222222222222,
             "#7201a8"
            ],
            [
             0.3333333333333333,
             "#9c179e"
            ],
            [
             0.4444444444444444,
             "#bd3786"
            ],
            [
             0.5555555555555556,
             "#d8576b"
            ],
            [
             0.6666666666666666,
             "#ed7953"
            ],
            [
             0.7777777777777778,
             "#fb9f3a"
            ],
            [
             0.8888888888888888,
             "#fdca26"
            ],
            [
             1,
             "#f0f921"
            ]
           ]
          },
          "colorway": [
           "#636efa",
           "#EF553B",
           "#00cc96",
           "#ab63fa",
           "#FFA15A",
           "#19d3f3",
           "#FF6692",
           "#B6E880",
           "#FF97FF",
           "#FECB52"
          ],
          "font": {
           "color": "#2a3f5f"
          },
          "geo": {
           "bgcolor": "white",
           "lakecolor": "white",
           "landcolor": "#E5ECF6",
           "showlakes": true,
           "showland": true,
           "subunitcolor": "white"
          },
          "hoverlabel": {
           "align": "left"
          },
          "hovermode": "closest",
          "mapbox": {
           "style": "light"
          },
          "paper_bgcolor": "white",
          "plot_bgcolor": "#E5ECF6",
          "polar": {
           "angularaxis": {
            "gridcolor": "white",
            "linecolor": "white",
            "ticks": ""
           },
           "bgcolor": "#E5ECF6",
           "radialaxis": {
            "gridcolor": "white",
            "linecolor": "white",
            "ticks": ""
           }
          },
          "scene": {
           "xaxis": {
            "backgroundcolor": "#E5ECF6",
            "gridcolor": "white",
            "gridwidth": 2,
            "linecolor": "white",
            "showbackground": true,
            "ticks": "",
            "zerolinecolor": "white"
           },
           "yaxis": {
            "backgroundcolor": "#E5ECF6",
            "gridcolor": "white",
            "gridwidth": 2,
            "linecolor": "white",
            "showbackground": true,
            "ticks": "",
            "zerolinecolor": "white"
           },
           "zaxis": {
            "backgroundcolor": "#E5ECF6",
            "gridcolor": "white",
            "gridwidth": 2,
            "linecolor": "white",
            "showbackground": true,
            "ticks": "",
            "zerolinecolor": "white"
           }
          },
          "shapedefaults": {
           "line": {
            "color": "#2a3f5f"
           }
          },
          "ternary": {
           "aaxis": {
            "gridcolor": "white",
            "linecolor": "white",
            "ticks": ""
           },
           "baxis": {
            "gridcolor": "white",
            "linecolor": "white",
            "ticks": ""
           },
           "bgcolor": "#E5ECF6",
           "caxis": {
            "gridcolor": "white",
            "linecolor": "white",
            "ticks": ""
           }
          },
          "title": {
           "x": 0.05
          },
          "xaxis": {
           "automargin": true,
           "gridcolor": "white",
           "linecolor": "white",
           "ticks": "",
           "title": {
            "standoff": 15
           },
           "zerolinecolor": "white",
           "zerolinewidth": 2
          },
          "yaxis": {
           "automargin": true,
           "gridcolor": "white",
           "linecolor": "white",
           "ticks": "",
           "title": {
            "standoff": 15
           },
           "zerolinecolor": "white",
           "zerolinewidth": 2
          }
         }
        },
        "title": {
         "text": "Optimizer Race on Loss Surface"
        }
       }
      }
     },
     "metadata": {},
     "output_type": "display_data"
    }
   ],
   "source": [
    "import numpy as np\n",
    "import plotly.graph_objs as go\n",
    "\n",
    "# ---------------------\n",
    "# Optimizers\n",
    "# ---------------------\n",
    "def batch_gd(X, y, lr=0.01, epochs=30):\n",
    "    coef = np.ones(X.shape[1])\n",
    "    intercept = 0\n",
    "    history = []\n",
    "    for _ in range(epochs):\n",
    "        y_hat = X @ coef + intercept\n",
    "        intercept_der = -2 * np.mean(y - y_hat)\n",
    "        coef_der = -2 * (X.T @ (y - y_hat)) / X.shape[0]\n",
    "        intercept -= lr * intercept_der\n",
    "        coef -= lr * coef_der\n",
    "        loss = np.mean((y - (X @ coef + intercept)) ** 2)\n",
    "        history.append((coef[0], coef[1], loss))\n",
    "    return np.array(history)\n",
    "\n",
    "def sgd(X, y, lr=0.01, epochs=30):\n",
    "    coef = np.ones(X.shape[1])\n",
    "    intercept = 0\n",
    "    history = []\n",
    "    for _ in range(epochs):\n",
    "        for i in range(X.shape[0]):\n",
    "            idx = np.random.randint(0, X.shape[0])\n",
    "            y_hat = X[idx] @ coef + intercept\n",
    "            intercept_der = -2 * (y[idx] - y_hat)\n",
    "            coef_der = -2 * X[idx] * (y[idx] - y_hat)\n",
    "            intercept -= lr * intercept_der\n",
    "            coef -= lr * coef_der\n",
    "            loss = np.mean((y - (X @ coef + intercept)) ** 2)\n",
    "            history.append((coef[0], coef[1], loss))\n",
    "    return np.array(history)\n",
    "\n",
    "def adam(X, y, lr=0.01, epochs=30, beta1=0.9, beta2=0.999, eps=1e-8):\n",
    "    coef = np.ones(X.shape[1])\n",
    "    intercept = 0\n",
    "    m_coef = np.zeros_like(coef)\n",
    "    v_coef = np.zeros_like(coef)\n",
    "    m_int = 0\n",
    "    v_int = 0\n",
    "    history = []\n",
    "    t = 0\n",
    "    for _ in range(epochs):\n",
    "        y_hat = X @ coef + intercept\n",
    "        intercept_der = -2 * np.mean(y - y_hat)\n",
    "        coef_der = -2 * (X.T @ (y - y_hat)) / X.shape[0]\n",
    "        t += 1\n",
    "\n",
    "        # Adam update for intercept\n",
    "        m_int = beta1 * m_int + (1 - beta1) * intercept_der\n",
    "        v_int = beta2 * v_int + (1 - beta2) * (intercept_der ** 2)\n",
    "        m_int_hat = m_int / (1 - beta1 ** t)\n",
    "        v_int_hat = v_int / (1 - beta2 ** t)\n",
    "        intercept -= lr * m_int_hat / (np.sqrt(v_int_hat) + eps)\n",
    "\n",
    "        # Adam update for coef\n",
    "        m_coef = beta1 * m_coef + (1 - beta1) * coef_der\n",
    "        v_coef = beta2 * v_coef + (1 - beta2) * (coef_der ** 2)\n",
    "        m_coef_hat = m_coef / (1 - beta1 ** t)\n",
    "        v_coef_hat = v_coef / (1 - beta2 ** t)\n",
    "        coef -= lr * m_coef_hat / (np.sqrt(v_coef_hat) + eps)\n",
    "\n",
    "        loss = np.mean((y - (X @ coef + intercept)) ** 2)\n",
    "        history.append((coef[0], coef[1], loss))\n",
    "    return np.array(history)\n",
    "\n",
    "# ---------------------\n",
    "# Generate data\n",
    "# ---------------------\n",
    "np.random.seed(42)\n",
    "X = np.random.randn(200, 2)\n",
    "true_coef = np.array([3.0, -2.0])\n",
    "y = X @ true_coef + 5 + np.random.randn(200) * 0.5\n",
    "\n",
    "# ---------------------\n",
    "# Run all optimizers\n",
    "# ---------------------\n",
    "path_bgd = batch_gd(X, y, lr=0.05, epochs=50)\n",
    "path_sgd = sgd(X, y, lr=0.01, epochs=5)\n",
    "path_adam = adam(X, y, lr=0.05, epochs=50)\n",
    "\n",
    "# ---------------------\n",
    "# Build loss surface\n",
    "# ---------------------\n",
    "w0 = np.linspace(-1, 6, 80)\n",
    "w1 = np.linspace(-5, 3, 80)\n",
    "W0, W1 = np.meshgrid(w0, w1)\n",
    "Loss = np.zeros_like(W0)\n",
    "for i in range(W0.shape[0]):\n",
    "    for j in range(W0.shape[1]):\n",
    "        coef = np.array([W0[i, j], W1[i, j]])\n",
    "        y_hat = X @ coef + 5\n",
    "        Loss[i, j] = np.mean((y - y_hat) ** 2)\n",
    "\n",
    "# ---------------------\n",
    "# Plotly figure: Optimizer Race\n",
    "# ---------------------\n",
    "surface = go.Surface(x=W0, y=W1, z=Loss, colorscale='Viridis', opacity=0.6)\n",
    "\n",
    "traj_bgd = go.Scatter3d(x=path_bgd[:,0], y=path_bgd[:,1], z=path_bgd[:,2],\n",
    "                        mode='lines+markers', name='Batch GD', line=dict(color='blue', width=4), marker=dict(size=5))\n",
    "traj_sgd = go.Scatter3d(x=path_sgd[:,0], y=path_sgd[:,1], z=path_sgd[:,2],\n",
    "                        mode='lines+markers', name='SGD', line=dict(color='red', width=4), marker=dict(size=5))\n",
    "traj_adam = go.Scatter3d(x=path_adam[:,0], y=path_adam[:,1], z=path_adam[:,2],\n",
    "                         mode='lines+markers', name='Adam', line=dict(color='green', width=4), marker=dict(size=5))\n",
    "\n",
    "fig = go.Figure(data=[surface, traj_bgd, traj_sgd, traj_adam])\n",
    "fig.update_layout(scene=dict(xaxis_title='Coefficient 0',\n",
    "                             yaxis_title='Coefficient 1',\n",
    "                             zaxis_title='Loss (MSE)'),\n",
    "                  title=\"Optimizer Race on Loss Surface\")\n",
    "\n",
    "fig.show()\n"
   ]
  }
 ],
 "metadata": {
  "kernelspec": {
   "display_name": "myenv (3.11.9)",
   "language": "python",
   "name": "python3"
  },
  "language_info": {
   "codemirror_mode": {
    "name": "ipython",
    "version": 3
   },
   "file_extension": ".py",
   "mimetype": "text/x-python",
   "name": "python",
   "nbconvert_exporter": "python",
   "pygments_lexer": "ipython3",
   "version": "3.11.9"
  }
 },
 "nbformat": 4,
 "nbformat_minor": 5
}
